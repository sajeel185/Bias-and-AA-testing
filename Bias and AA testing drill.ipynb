{
 "cells": [
  {
   "cell_type": "markdown",
   "metadata": {},
   "source": [
    "### First Scenario\n",
    "\n",
    "You're testing advertising emails for a bathing suit company and you test one version of the email in February and the other in May.\n",
    "\n",
    "In this scenario, the testing method is wrong because people in general are more likely to respond positively to bathing suit advertisements in May than they are in February. The bias here is caused by the hotter temperature (the contextual factor), in May vs. February."
   ]
  },
  {
   "cell_type": "markdown",
   "metadata": {},
   "source": [
    "### Second Scenario\n",
    "\n",
    "You open a clinic to treat anxiety and find that the people who visit show a higher rate of anxiety than the general population.\n",
    "\n",
    "When considereing this scenario, we must remember that the people who visit an anxiety clinic will of course show a high level of anxiety.  Assuming that the experiment only took into account the people that visited our clinic, we can't generalize the conclusion that's given in the scenario over the general population due to the bias that is caused by the sampling procedure because the sample only took into account the people that visited our anxiety clinic.  It mistakingly did not taken into consideration the people in the general population that have anxiety but don't visit a clinic.  Taking a random sample from the population would have solved the problem here.\n"
   ]
  },
  {
   "cell_type": "markdown",
   "metadata": {},
   "source": [
    "### Third Scenario\n",
    "\n",
    "You launch a new ad billboard based campaign and see an increase in website visits in the first week.  \n",
    "\n",
    "In this scenario, I would assume that I had expected a positive result before starting the billboard campaign.  So in this situation, there is a huge possibility of observer bias from my part. "
   ]
  },
  {
   "cell_type": "markdown",
   "metadata": {},
   "source": [
    "### Fourth Scenario\n",
    "\n",
    "You launch a loyalty program but see no change in visits in the first week.\n",
    "\n",
    "In this scenario, time is an important factor in designing the experiment.  One week maybe too short of a time to observe changes, so our initial observation maybe biased in the sense that we did not design a proper experiment to take into account the people who maybe planning to increase their visits or behavior after the first week."
   ]
  }
 ],
 "metadata": {
  "kernelspec": {
   "display_name": "Python 3",
   "language": "python",
   "name": "python3"
  },
  "language_info": {
   "codemirror_mode": {
    "name": "ipython",
    "version": 3
   },
   "file_extension": ".py",
   "mimetype": "text/x-python",
   "name": "python",
   "nbconvert_exporter": "python",
   "pygments_lexer": "ipython3",
   "version": "3.7.0"
  }
 },
 "nbformat": 4,
 "nbformat_minor": 2
}
